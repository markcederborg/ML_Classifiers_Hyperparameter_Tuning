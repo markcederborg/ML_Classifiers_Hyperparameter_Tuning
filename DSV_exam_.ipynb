{
 "cells": [
  {
   "cell_type": "markdown",
   "metadata": {},
   "source": [
    "# Classification algorithms on white wine dataset"
   ]
  },
  {
   "cell_type": "markdown",
   "metadata": {},
   "source": [
    "## Imports"
   ]
  },
  {
   "cell_type": "code",
   "execution_count": 1,
   "metadata": {},
   "outputs": [],
   "source": [
    "import numpy as np\n",
    "import pandas as pd\n",
    "import seaborn as sns\n",
    "import matplotlib.pyplot as plt\n",
    "from sklearn.model_selection import train_test_split\n",
    "from sklearn.model_selection import cross_val_score\n",
    "from sklearn.preprocessing import StandardScaler\n",
    "from sklearn.neighbors import KNeighborsClassifier\n",
    "from sklearn.tree import DecisionTreeClassifier\n",
    "from sklearn.ensemble import RandomForestClassifier\n",
    "from sklearn.svm import SVC\n",
    "from sklearn.metrics import classification_report, confusion_matrix\n",
    "from sklearn.metrics import balanced_accuracy_score\n",
    "from sklearn.metrics import accuracy_score, recall_score, f1_score\n",
    "from sklearn.model_selection import KFold"
   ]
  },
  {
   "cell_type": "markdown",
   "metadata": {},
   "source": [
    "## Preparing data"
   ]
  },
  {
   "cell_type": "code",
   "execution_count": 2,
   "metadata": {},
   "outputs": [],
   "source": [
    "data = pd.read_csv('winequality-white.csv', delimiter=';')\n",
    "X = data.iloc[:,:11]\n",
    "y = data.iloc[:,11]"
   ]
  },
  {
   "cell_type": "code",
   "execution_count": 3,
   "metadata": {},
   "outputs": [
    {
     "data": {
      "image/png": "[encoded data removed]",
      "text/plain": [
       "<Figure size 360x360 with 1 Axes>"
      ]
     },
     "metadata": {
      "needs_background": "light"
     },
     "output_type": "display_data"
    }
   ],
   "source": [
    "dist_plt = sns.displot(y)"
   ]
  },
  {
   "cell_type": "code",
   "execution_count": 4,
   "metadata": {},
   "outputs": [],
   "source": [
    "#splitting the data into training and test data\n",
    "X_train, X_test, y_train, y_test = train_test_split(X, y, test_size=0.05)\n",
    "#10-fold\n",
    "cv = KFold(n_splits=10, shuffle=True)\n",
    "\n",
    "#Scaling\n",
    "scaler = StandardScaler()\n",
    "scaler.fit(X)\n",
    "\n",
    "X = scaler.transform(X)"
   ]
  },
  {
   "cell_type": "markdown",
   "metadata": {},
   "source": [
    "## Cross-validation - picking the right classifier"
   ]
  },
  {
   "cell_type": "code",
   "execution_count": 5,
   "metadata": {
    "scrolled": true
   },
   "outputs": [
    {
     "name": "stdout",
     "output_type": "stream",
     "text": [
      "accuracy of SVC:  [0.58571429 0.56326531 0.6122449  0.56938776 0.58367347 0.60204082\n",
      " 0.56530612 0.56938776 0.55828221 0.5603272 ]\n",
      "avg:  0.5769629815116231\n",
      "accuracy of RF [0.70204082 0.70816327 0.73469388 0.69387755 0.71836735 0.71020408\n",
      " 0.70204082 0.6877551  0.67893661 0.6809816 ]\n",
      "avg:  0.7017061057551854\n",
      "accuracy of KN [0.55714286 0.55510204 0.54897959 0.59183673 0.53265306 0.61020408\n",
      " 0.54693878 0.56734694 0.55828221 0.57464213]\n",
      "avg:  0.5643128417010976\n"
     ]
    }
   ],
   "source": [
    "def getAverage(lst):\n",
    "    return sum(lst) / len(lst)\n",
    "    \n",
    "lstSVC = cross_val_score(SVC(), X, y, cv=cv)\n",
    "lstRF = cross_val_score(RandomForestClassifier(), X, y, cv=cv)\n",
    "lstKN = cross_val_score(KNeighborsClassifier(), X, y, cv=cv)\n",
    "\n",
    "print('accuracy of SVC: ', lstSVC)\n",
    "print('avg: ', getAverage(lstSVC))\n",
    "print('accuracy of RF', lstRF)\n",
    "print('avg: ', getAverage(lstRF))\n",
    "print('accuracy of KN', lstKN)\n",
    "print('avg: ', getAverage(lstKN))"
   ]
  },
  {
   "cell_type": "markdown",
   "metadata": {},
   "source": [
    "## KNN Algorithm"
   ]
  },
  {
   "cell_type": "code",
   "execution_count": null,
   "metadata": {},
   "outputs": [],
   "source": [
    "results = []\n",
    "\n",
    "# Calculating accuracy for n_neighbors values in [10, 100]\n",
    "for i in range(10, 100):\n",
    "    knn = KNeighborsClassifier(n_neighbors=i, weights='distance')\n",
    "    accuracy = np.mean(cross_val_score(knn, X, y, cv=cv))\n",
    "    results.append(accuracy)                        "
   ]
  },
  {
   "cell_type": "code",
   "execution_count": null,
   "metadata": {},
   "outputs": [],
   "source": [
    "plt.plot(range(10, 100), results, color='red', linestyle='solid', marker='o', markersize=10)\n",
    "plt.xlabel('K Value')\n",
    "plt.ylabel('Accuracy')"
   ]
  },
  {
   "cell_type": "code",
   "execution_count": null,
   "metadata": {},
   "outputs": [],
   "source": [
    "max(results)"
   ]
  },
  {
   "cell_type": "markdown",
   "metadata": {},
   "source": [
    "## Random Forest Algorithm"
   ]
  },
  {
   "cell_type": "code",
   "execution_count": null,
   "metadata": {
    "scrolled": true
   },
   "outputs": [],
   "source": [
    "n_estimators_list = [150,250, 350]\n",
    "min_samples_split_list = [2,5,10]\n",
    "min_samples_leaf_list = [1,2,4]\n",
    "\n",
    "results = []\n",
    "\n",
    "for n_estimators in n_estimators_list:\n",
    "    for min_samples_split in min_samples_split_list:\n",
    "        for min_samples_leaf in min_samples_leaf_list:\n",
    "            rf_classifier = RandomForestClassifier(\n",
    "                n_estimators=n_estimators,\n",
    "                min_samples_split=min_samples_split,\n",
    "                min_samples_leaf=min_samples_leaf,\n",
    "                )\n",
    "            accuracy = np.mean(cross_val_score(rf_classifier, X, y, cv=cv))\n",
    "            results.append([accuracy, n_estimators, min_samples_split, min_samples_leaf])                        \n",
    "results = pd.DataFrame(results)\n",
    "results.columns = ['accuracy', 'n_estimators', 'min_samples_split', 'min_samples_leaf']\n",
    "pd.DataFrame(results)"
   ]
  },
  {
   "cell_type": "code",
   "execution_count": null,
   "metadata": {
    "scrolled": true
   },
   "outputs": [],
   "source": [
    "results[results['accuracy'] == results['accuracy'].max()]"
   ]
  },
  {
   "cell_type": "code",
   "execution_count": null,
   "metadata": {},
   "outputs": [],
   "source": [
    "rf_classifier = RandomForestClassifier(n_estimators=250, min_samples_split=2, min_samples_leaf = 1)\n",
    "rf_classifier.fit(X_train, y_train)\n",
    "rf_pred = rf_classifier.predict(X_test)\n",
    "print('accuracy: ', np.mean(rf_pred == y_test))"
   ]
  },
  {
   "cell_type": "markdown",
   "metadata": {},
   "source": [
    "## Support Vector Machines"
   ]
  },
  {
   "cell_type": "code",
   "execution_count": 8,
   "metadata": {},
   "outputs": [
    {
     "data": {
      "text/html": [
       "<div>\n",
       "<style scoped>\n",
       "    .dataframe tbody tr th:only-of-type {\n",
       "        vertical-align: middle;\n",
       "    }\n",
       "\n",
       "    .dataframe tbody tr th {\n",
       "        vertical-align: top;\n",
       "    }\n",
       "\n",
       "    .dataframe thead th {\n",
       "        text-align: right;\n",
       "    }\n",
       "</style>\n",
       "<table border=\"1\" class=\"dataframe\">\n",
       "  <thead>\n",
       "    <tr style=\"text-align: right;\">\n",
       "      <th></th>\n",
       "      <th>accuracy</th>\n",
       "      <th>kernel</th>\n",
       "    </tr>\n",
       "  </thead>\n",
       "  <tbody>\n",
       "    <tr>\n",
       "      <th>0</th>\n",
       "      <td>0.520424</td>\n",
       "      <td>linear</td>\n",
       "    </tr>\n",
       "    <tr>\n",
       "      <th>1</th>\n",
       "      <td>0.539411</td>\n",
       "      <td>poly</td>\n",
       "    </tr>\n",
       "    <tr>\n",
       "      <th>2</th>\n",
       "      <td>0.602288</td>\n",
       "      <td>rbf</td>\n",
       "    </tr>\n",
       "    <tr>\n",
       "      <th>3</th>\n",
       "      <td>0.417105</td>\n",
       "      <td>sigmoid</td>\n",
       "    </tr>\n",
       "  </tbody>\n",
       "</table>\n",
       "</div>"
      ],
      "text/plain": [
       "   accuracy   kernel\n",
       "0  0.520424   linear\n",
       "1  0.539411     poly\n",
       "2  0.602288      rbf\n",
       "3  0.417105  sigmoid"
      ]
     },
     "execution_count": 8,
     "metadata": {},
     "output_type": "execute_result"
    }
   ],
   "source": [
    "#implementing SVM with three different kernels\n",
    "kernels = ['linear','poly','rbf','sigmoid']\n",
    "results = []\n",
    "for k in kernels:\n",
    "    sv_classifier = SVC(kernel=k, gamma=g, C = c)\n",
    "    accuracy = np.mean(cross_val_score(sv_classifier, X, y, cv=cv)) \n",
    "    results.append([accuracy, k])\n",
    "results = pd.DataFrame(results)\n",
    "results.columns = ['accuracy', 'kernel']\n",
    "pd.DataFrame(results)"
   ]
  },
  {
   "cell_type": "code",
   "execution_count": 10,
   "metadata": {},
   "outputs": [
    {
     "data": {
      "text/html": [
       "<div>\n",
       "<style scoped>\n",
       "    .dataframe tbody tr th:only-of-type {\n",
       "        vertical-align: middle;\n",
       "    }\n",
       "\n",
       "    .dataframe tbody tr th {\n",
       "        vertical-align: top;\n",
       "    }\n",
       "\n",
       "    .dataframe thead th {\n",
       "        text-align: right;\n",
       "    }\n",
       "</style>\n",
       "<table border=\"1\" class=\"dataframe\">\n",
       "  <thead>\n",
       "    <tr style=\"text-align: right;\">\n",
       "      <th></th>\n",
       "      <th>accuracy</th>\n",
       "      <th>gammas</th>\n",
       "    </tr>\n",
       "  </thead>\n",
       "  <tbody>\n",
       "    <tr>\n",
       "      <th>0</th>\n",
       "      <td>0.575334</td>\n",
       "      <td>0.1</td>\n",
       "    </tr>\n",
       "    <tr>\n",
       "      <th>1</th>\n",
       "      <td>0.659863</td>\n",
       "      <td>1.0</td>\n",
       "    </tr>\n",
       "    <tr>\n",
       "      <th>2</th>\n",
       "      <td>0.647207</td>\n",
       "      <td>10.0</td>\n",
       "    </tr>\n",
       "    <tr>\n",
       "      <th>3</th>\n",
       "      <td>0.631489</td>\n",
       "      <td>100.0</td>\n",
       "    </tr>\n",
       "  </tbody>\n",
       "</table>\n",
       "</div>"
      ],
      "text/plain": [
       "   accuracy  gammas\n",
       "0  0.575334     0.1\n",
       "1  0.659863     1.0\n",
       "2  0.647207    10.0\n",
       "3  0.631489   100.0"
      ]
     },
     "execution_count": 10,
     "metadata": {},
     "output_type": "execute_result"
    }
   ],
   "source": [
    "#implementing SVM with three different gamma values\n",
    "gammas = [0.1, 1,10,100]\n",
    "#cs = [0.1, 1,10,100]\n",
    "results = []\n",
    "for g in gammas:\n",
    "    sv_classifier = SVC(kernel='rbf', gamma=g)\n",
    "    accuracy = np.mean(cross_val_score(sv_classifier, X, y, cv=cv)) \n",
    "    results.append([accuracy, g])\n",
    "results = pd.DataFrame(results)\n",
    "results.columns = ['accuracy', 'gammas']\n",
    "pd.DataFrame(results)"
   ]
  },
  {
   "cell_type": "code",
   "execution_count": 14,
   "metadata": {},
   "outputs": [
    {
     "data": {
      "text/html": [
       "<div>\n",
       "<style scoped>\n",
       "    .dataframe tbody tr th:only-of-type {\n",
       "        vertical-align: middle;\n",
       "    }\n",
       "\n",
       "    .dataframe tbody tr th {\n",
       "        vertical-align: top;\n",
       "    }\n",
       "\n",
       "    .dataframe thead th {\n",
       "        text-align: right;\n",
       "    }\n",
       "</style>\n",
       "<table border=\"1\" class=\"dataframe\">\n",
       "  <thead>\n",
       "    <tr style=\"text-align: right;\">\n",
       "      <th></th>\n",
       "      <th>accuracy</th>\n",
       "      <th>C</th>\n",
       "    </tr>\n",
       "  </thead>\n",
       "  <tbody>\n",
       "    <tr>\n",
       "      <th>0</th>\n",
       "      <td>0.456918</td>\n",
       "      <td>0.1</td>\n",
       "    </tr>\n",
       "    <tr>\n",
       "      <th>1</th>\n",
       "      <td>0.660273</td>\n",
       "      <td>1.0</td>\n",
       "    </tr>\n",
       "    <tr>\n",
       "      <th>2</th>\n",
       "      <td>0.675178</td>\n",
       "      <td>10.0</td>\n",
       "    </tr>\n",
       "    <tr>\n",
       "      <th>3</th>\n",
       "      <td>0.673738</td>\n",
       "      <td>100.0</td>\n",
       "    </tr>\n",
       "  </tbody>\n",
       "</table>\n",
       "</div>"
      ],
      "text/plain": [
       "   accuracy      C\n",
       "0  0.456918    0.1\n",
       "1  0.660273    1.0\n",
       "2  0.675178   10.0\n",
       "3  0.673738  100.0"
      ]
     },
     "execution_count": 14,
     "metadata": {},
     "output_type": "execute_result"
    }
   ],
   "source": [
    "#implementing SVM with three different C values\n",
    "cs = [0.1, 1,10,100]\n",
    "results = []\n",
    "for c in cs:\n",
    "    sv_classifier = SVC(kernel='rbf', gamma=1, C=c)\n",
    "    accuracy = np.mean(cross_val_score(sv_classifier, X, y, cv=cv)) \n",
    "    results.append([accuracy, c])\n",
    "results = pd.DataFrame(results)\n",
    "results.columns = ['accuracy', 'C']\n",
    "pd.DataFrame(results)"
   ]
  },
  {
   "cell_type": "code",
   "execution_count": 16,
   "metadata": {},
   "outputs": [
    {
     "name": "stdout",
     "output_type": "stream",
     "text": [
      "accuracy:  0.6408163265306123\n"
     ]
    }
   ],
   "source": [
    "sv_classifier = SVC(kernel='rbf', gamma=1, C=10)\n",
    "sv_classifier.fit(X_train, y_train)\n",
    "sv_pred = sv_classifier.predict(X_test)\n",
    "print('accuracy: ', np.mean(sv_pred == y_test))"
   ]
  },
  {
   "cell_type": "code",
   "execution_count": null,
   "metadata": {},
   "outputs": [],
   "source": []
  }
 ],
 "metadata": {
  "kernelspec": {
   "display_name": "Python 3",
   "language": "python",
   "name": "python3"
  },
  "language_info": {
   "codemirror_mode": {
    "name": "ipython",
    "version": 3
   },
   "file_extension": ".py",
   "mimetype": "text/x-python",
   "name": "python",
   "nbconvert_exporter": "python",
   "pygments_lexer": "ipython3",
   "version": "3.8.5"
  }
 },
 "nbformat": 4,
 "nbformat_minor": 4
}
